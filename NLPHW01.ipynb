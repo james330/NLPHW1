{
  "nbformat": 4,
  "nbformat_minor": 0,
  "metadata": {
    "colab": {
      "name": "NLPHW01.ipynb",
      "provenance": [],
      "collapsed_sections": [],
      "authorship_tag": "ABX9TyPcb0BAG51Sx60+yX61WHX4",
      "include_colab_link": true
    },
    "kernelspec": {
      "name": "python3",
      "display_name": "Python 3"
    },
    "language_info": {
      "name": "python"
    }
  },
  "cells": [
    {
      "cell_type": "markdown",
      "metadata": {
        "id": "view-in-github",
        "colab_type": "text"
      },
      "source": [
        "<a href=\"https://colab.research.google.com/github/james330/NLPHW1/blob/main/NLPHW01.ipynb\" target=\"_parent\"><img src=\"https://colab.research.google.com/assets/colab-badge.svg\" alt=\"Open In Colab\"/></a>"
      ]
    },
    {
      "cell_type": "code",
      "metadata": {
        "colab": {
          "base_uri": "https://localhost:8080/"
        },
        "id": "FxMrkUumDPuy",
        "outputId": "f73f1071-ae3a-4c4f-e64a-ade08ef5b7b0"
      },
      "source": [
        "pip install jieba"
      ],
      "execution_count": 23,
      "outputs": [
        {
          "output_type": "stream",
          "text": [
            "Requirement already satisfied: jieba in /usr/local/lib/python3.7/dist-packages (0.42.1)\n"
          ],
          "name": "stdout"
        }
      ]
    },
    {
      "cell_type": "code",
      "metadata": {
        "id": "zMI12t9wPvtA"
      },
      "source": [
        "import urllib.request\n",
        "...\n",
        "url = 'https://raw.githubusercontent.com/cjwu/cjwu.github.io/master/courses/nlp/hw1-dataset.txt'\n",
        "response = urllib.request.urlopen(url)\n",
        "data = response.read()      # a `bytes` object\n",
        "text = data.decode('utf-8') # a `str`; this step can't be used if data is binary"
      ],
      "execution_count": 46,
      "outputs": []
    },
    {
      "cell_type": "markdown",
      "metadata": {
        "id": "L1-smlzygxma"
      },
      "source": [
        "剛確定 jieba初步操作\n",
        "確定  文檔有成功讀取\n",
        "確定  github NLPH1建立\n",
        "\n",
        "下一步確定 新的commit有成功\n",
        "接著就是弄分詞了，先分詞在弄詞性標註吧\n",
        "#"
      ]
    },
    {
      "cell_type": "code",
      "metadata": {
        "id": "SyR23IUXivqj"
      },
      "source": [
        "import jieba\n",
        "\n",
        "seg_list = jieba.lcut(text)"
      ],
      "execution_count": 53,
      "outputs": []
    },
    {
      "cell_type": "code",
      "metadata": {
        "colab": {
          "base_uri": "https://localhost:8080/"
        },
        "id": "6clGgm06kyAc",
        "outputId": "8cb28a4c-0f76-4230-e3a5-573bed22bd46"
      },
      "source": [
        "import jieba.analyse\n",
        "tags = jieba.analyse.extract_tags(data ,withWeight=True)\n",
        "\n",
        "for tag in tags:\n",
        "    print('word:' ,tag[0] ,'TF-IDF:' ,tag[1])"
      ],
      "execution_count": 63,
      "outputs": [
        {
          "output_type": "stream",
          "text": [
            "word: 什麼 TF-IDF: 0.19464509600157406\n",
            "word: 八卦 TF-IDF: 0.19420501140555646\n",
            "word: 台灣 TF-IDF: 0.12081408131496592\n",
            "word: 怎麼 TF-IDF: 0.11186701189176337\n",
            "word: 肥宅 TF-IDF: 0.07336596927026089\n",
            "word: 現在 TF-IDF: 0.03800903805058438\n",
            "word: 不會 TF-IDF: 0.036229733848907944\n",
            "word: 還是 TF-IDF: 0.03568381096884812\n",
            "word: 是不是 TF-IDF: 0.0355764318510935\n",
            "word: 一個 TF-IDF: 0.03550183667549485\n",
            "word: 中國 TF-IDF: 0.034474018907481\n",
            "word: 這樣 TF-IDF: 0.0325902479818425\n",
            "word: 怎樣 TF-IDF: 0.029860633581543415\n",
            "word: 時候 TF-IDF: 0.02967528939386879\n",
            "word: 一樣 TF-IDF: 0.028691280252032575\n",
            "word: 真的 TF-IDF: 0.026822655692091746\n",
            "word: 沒有 TF-IDF: 0.026099831518909124\n",
            "word: ... TF-IDF: 0.02543259244328046\n",
            "word: 應該 TF-IDF: 0.02359936993246231\n",
            "word: 可以 TF-IDF: 0.022958278161416924\n"
          ],
          "name": "stdout"
        }
      ]
    },
    {
      "cell_type": "markdown",
      "metadata": {
        "id": "S5CYAzOJtFvl"
      },
      "source": [
        "先做這樣，再添加自定義詞典，再開始查怎麼作圖吧\n",
        "#"
      ]
    }
  ]
}